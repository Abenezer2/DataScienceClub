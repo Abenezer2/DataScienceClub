{
 "cells": [
  {
   "cell_type": "code",
   "execution_count": 1,
   "id": "a7bdd96b-ba27-496c-9a87-90e3fcdc8467",
   "metadata": {},
   "outputs": [],
   "source": [
    "# Type code here  people"
   ]
  },
  {
   "cell_type": "code",
   "execution_count": null,
   "id": "19777e41-e4a3-450b-b69f-4e614409e979",
   "metadata": {},
   "outputs": [],
   "source": []
  }
 ],
 "metadata": {
  "kernelspec": {
   "display_name": "Python 3",
   "language": "python",
   "name": "python3"
  },
  "language_info": {
   "codemirror_mode": {
    "name": "ipython",
    "version": 3
   },
   "file_extension": ".py",
   "mimetype": "text/x-python",
   "name": "python",
   "nbconvert_exporter": "python",
   "pygments_lexer": "ipython3",
   "version": "3.8.8"
  }
 },
 "nbformat": 4,
 "nbformat_minor": 5
}
